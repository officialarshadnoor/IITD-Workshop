{
  "nbformat": 4,
  "nbformat_minor": 0,
  "metadata": {
    "colab": {
      "provenance": [],
      "authorship_tag": "ABX9TyN/3g4e0dWzjzlZ9+id+mhU",
      "include_colab_link": true
    },
    "kernelspec": {
      "name": "python3",
      "display_name": "Python 3"
    },
    "language_info": {
      "name": "python"
    }
  },
  "cells": [
    {
      "cell_type": "markdown",
      "metadata": {
        "id": "view-in-github",
        "colab_type": "text"
      },
      "source": [
        "<a href=\"https://colab.research.google.com/github/officialarshadnoor/IITD-Workshop/blob/main/IIT_Delhi_1.ipynb\" target=\"_parent\"><img src=\"https://colab.research.google.com/assets/colab-badge.svg\" alt=\"Open In Colab\"/></a>"
      ]
    },
    {
      "cell_type": "code",
      "execution_count": null,
      "metadata": {
        "colab": {
          "base_uri": "https://localhost:8080/"
        },
        "id": "oQrq-E-2OHNO",
        "outputId": "308afe1d-9415-4ba9-cc20-831c2f9bba41"
      },
      "outputs": [
        {
          "output_type": "execute_result",
          "data": {
            "text/plain": [
              "True"
            ]
          },
          "metadata": {},
          "execution_count": 2
        }
      ],
      "source": [
        "\n",
        "\n",
        "#Meet Robo: your friend\n",
        "\n",
        "#import necessary libraries\n",
        "import io\n",
        "import random\n",
        "import string # to process standard python strings\n",
        "import warnings\n",
        "import numpy as np\n",
        "from sklearn.feature_extraction.text import TfidfVectorizer\n",
        "from sklearn.metrics.pairwise import cosine_similarity\n",
        "import warnings\n",
        "warnings.filterwarnings('ignore')\n",
        "\n",
        "import nltk\n",
        "from nltk.stem import WordNetLemmatizer\n",
        "nltk.download('popular', quiet=True) # for downloading packages\n",
        "\n",
        "# # uncomment the following only the first time\n",
        "# #nltk.download('punkt') # first-time use only\n",
        "# #nltk.download('wordnet') # first-time use only\n",
        "\n",
        "\n",
        "# #Reading in the corpus\n",
        "with open('Chatbot.txt','r', encoding='utf8', errors ='ignore') as fin:\n",
        "    raw = fin.read().lower()  # this will convert whole data to lower case\n",
        "\n",
        "# #TOkenisation\n",
        "# sent_tokens = nltk.sent_tokenize(raw)# converts to list of sentences\n",
        "# word_tokens = nltk.word_tokenize(raw)# converts to list of words\n",
        "\n",
        "# # Preprocessing\n",
        "# lemmer = WordNetLemmatizer()\n",
        "# def LemTokens(tokens):\n",
        "#     return [lemmer.lemmatize(token) for token in tokens]\n",
        "# remove_punct_dict = dict((ord(punct), None) for punct in string.punctuation)\n",
        "# def LemNormalize(text):\n",
        "#     return LemTokens(nltk.word_tokenize(text.lower().translate(remove_punct_dict)))\n",
        "\n",
        "\n",
        "# # Keyword Matching\n",
        "# GREETING_INPUTS = (\"hello\", \"hi\", \"greetings\", \"sup\", \"what's up\",\"hey\",)\n",
        "# GREETING_RESPONSES = [\"hi\", \"hey\", \"*nods*\", \"hi there\", \"hello\", \"I am glad! You are talking to me\"]\n",
        "\n",
        "# def greeting(sentence):\n",
        "#     \"\"\"If user's input is a greeting, return a greeting response\"\"\"\n",
        "#     for word in sentence.split():\n",
        "#         if word.lower() in GREETING_INPUTS:\n",
        "#             return random.choice(GREETING_RESPONSES)\n",
        "\n",
        "\n",
        "# # Generating response\n",
        "# def response(user_response):\n",
        "#     robo_response=''\n",
        "#     sent_tokens.append(user_response)\n",
        "#     TfidfVec = TfidfVectorizer(tokenizer=LemNormalize, stop_words='english')\n",
        "#     tfidf = TfidfVec.fit_transform(sent_tokens)\n",
        "#     vals = cosine_similarity(tfidf[-1], tfidf)\n",
        "#     idx=vals.argsort()[0][-2]\n",
        "#     flat = vals.flatten()\n",
        "#     flat.sort()\n",
        "#     req_tfidf = flat[-2]\n",
        "#     if(req_tfidf==0):\n",
        "#         robo_response=robo_response+\"I am sorry! I don't understand you\"\n",
        "#         return robo_response\n",
        "#     else:\n",
        "#         robo_response = robo_response+sent_tokens[idx]\n",
        "#         return robo_response\n",
        "\n",
        "\n",
        "# flag=True\n",
        "# print(\"ROBO: My name is Robo. I will answer your queries about Chatbots. If you want to exit, type Bye!\")\n",
        "# while(flag==True):\n",
        "#     user_response = input()\n",
        "#     user_response=user_response.lower()\n",
        "#     if(user_response!='bye'):\n",
        "#         if(user_response=='thanks' or user_response=='thank you' ):\n",
        "#             flag=False\n",
        "#             print(\"ROBO: You are welcome..\")\n",
        "#         else:\n",
        "#             if(greeting(user_response)!=None):\n",
        "#                 print(\"ROBO: \"+greeting(user_response))\n",
        "#             else:\n",
        "#                 print(\"ROBO: \",end=\"\")\n",
        "#                 print(response(user_response))\n",
        "#                 sent_tokens.remove(user_response)\n",
        "#     else:\n",
        "#         flag=False\n",
        "#         print(\"ROBO: Bye! take care..\")"
      ]
    },
    {
      "cell_type": "code",
      "source": [
        "#TOkenisation\n",
        "sent_tokens = nltk.sent_tokenize(raw)# converts to list of sentences\n",
        "word_tokens = nltk.word_tokenize(raw)# converts to list of words\n",
        "\n",
        "# Preprocessing\n",
        "lemmer = WordNetLemmatizer()"
      ],
      "metadata": {
        "id": "AQyty74zT13s"
      },
      "execution_count": null,
      "outputs": []
    },
    {
      "cell_type": "code",
      "source": [
        "# Preprocessing\n",
        "def LemTokens(tokens):\n",
        "    return [lemmer.lemmatize(token) for token in tokens]\n",
        "remove_punct_dict = dict((ord(punct), None) for punct in string.punctuation)\n",
        "def LemNormalize(text):\n",
        "    return LemTokens(nltk.word_tokenize(text.lower().translate(remove_punct_dict)))\n",
        "\n",
        "\n",
        "# Keyword Matching\n",
        "GREETING_INPUTS = (\"hello\", \"hi\", \"greetings\", \"sup\", \"what's up\",\"hey\",)\n",
        "GREETING_RESPONSES = [\"hi\", \"hey\", \"*nods*\", \"hi there\", \"hello\", \"I am glad! You are talking to me\"]\n",
        "\n",
        "def greeting(sentence):\n",
        "    \"\"\"If user's input is a greeting, return a greeting response\"\"\"\n",
        "    for word in sentence.split():\n",
        "        if word.lower() in GREETING_INPUTS:\n",
        "            return random.choice(GREETING_RESPONSES)\n",
        "\n"
      ],
      "metadata": {
        "id": "JyP7Kmb7XkBm"
      },
      "execution_count": null,
      "outputs": []
    }
  ]
}